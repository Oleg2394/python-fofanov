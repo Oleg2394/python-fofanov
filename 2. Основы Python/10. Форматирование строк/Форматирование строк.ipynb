{
 "cells": [
  {
   "cell_type": "code",
   "execution_count": 6,
   "metadata": {},
   "outputs": [
    {
     "name": "stdout",
     "output_type": "stream",
     "text": [
      "My name is Elias\n"
     ]
    }
   ],
   "source": [
    "print(\"My name is {}\".format(\"Elias\"))"
   ]
  },
  {
   "cell_type": "code",
   "execution_count": 7,
   "metadata": {},
   "outputs": [
    {
     "name": "stdout",
     "output_type": "stream",
     "text": [
      "My name is Elias\n"
     ]
    }
   ],
   "source": [
    "my_name = \"Elias\"\n",
    "print(\"My name is {}\".format(my_name))"
   ]
  },
  {
   "cell_type": "code",
   "execution_count": 8,
   "metadata": {},
   "outputs": [
    {
     "name": "stdout",
     "output_type": "stream",
     "text": [
      "My name is Elias and I'm 30\n"
     ]
    }
   ],
   "source": [
    "print(\"My name is {} and I'm {}\".format(my_name, 30))"
   ]
  },
  {
   "cell_type": "code",
   "execution_count": 9,
   "metadata": {},
   "outputs": [
    {
     "name": "stdout",
     "output_type": "stream",
     "text": [
      "My name is Elias and I'm 30\n"
     ]
    }
   ],
   "source": [
    "print(\"My name is {0} and I'm {1}\".format(my_name, 30))"
   ]
  },
  {
   "cell_type": "code",
   "execution_count": 10,
   "metadata": {},
   "outputs": [
    {
     "name": "stdout",
     "output_type": "stream",
     "text": [
      "My name is 30 and I'm Elias\n"
     ]
    }
   ],
   "source": [
    "print(\"My name is {1} and I'm {0}\".format(my_name, 30))"
   ]
  },
  {
   "cell_type": "code",
   "execution_count": 11,
   "metadata": {},
   "outputs": [
    {
     "data": {
      "text/plain": [
       "3.1415"
      ]
     },
     "execution_count": 11,
     "metadata": {},
     "output_type": "execute_result"
    }
   ],
   "source": [
    "pi = 3.1415\n",
    "pi"
   ]
  },
  {
   "cell_type": "code",
   "execution_count": 13,
   "metadata": {},
   "outputs": [
    {
     "name": "stdout",
     "output_type": "stream",
     "text": [
      "Pi equals 3.14\n"
     ]
    }
   ],
   "source": [
    "print(\"Pi equals {pi:1.2f}\".format(pi = pi))"
   ]
  },
  {
   "cell_type": "code",
   "execution_count": 14,
   "metadata": {},
   "outputs": [
    {
     "name": "stdout",
     "output_type": "stream",
     "text": [
      "Pi equals 3.14\n"
     ]
    }
   ],
   "source": [
    "print(\"Pi equals {pi:2.2f}\".format(pi = pi))"
   ]
  },
  {
   "cell_type": "code",
   "execution_count": 15,
   "metadata": {},
   "outputs": [
    {
     "name": "stdout",
     "output_type": "stream",
     "text": [
      "Pi equals 3.14\n"
     ]
    }
   ],
   "source": [
    "print(\"Pi equals {pi:3.2f}\".format(pi = pi))"
   ]
  },
  {
   "cell_type": "code",
   "execution_count": 16,
   "metadata": {},
   "outputs": [
    {
     "name": "stdout",
     "output_type": "stream",
     "text": [
      "Pi equals 3.14\n"
     ]
    }
   ],
   "source": [
    "print(\"Pi equals {pi:4.2f}\".format(pi = pi))"
   ]
  },
  {
   "cell_type": "code",
   "execution_count": 17,
   "metadata": {},
   "outputs": [
    {
     "name": "stdout",
     "output_type": "stream",
     "text": [
      "Pi equals  3.14\n"
     ]
    }
   ],
   "source": [
    "print(\"Pi equals {pi:5.2f}\".format(pi = pi))"
   ]
  },
  {
   "cell_type": "code",
   "execution_count": 18,
   "metadata": {},
   "outputs": [
    {
     "name": "stdout",
     "output_type": "stream",
     "text": [
      "Pi equals    3.14\n"
     ]
    }
   ],
   "source": [
    "print(\"Pi equals {pi:7.2f}\".format(pi = pi))"
   ]
  },
  {
   "cell_type": "code",
   "execution_count": 19,
   "metadata": {},
   "outputs": [
    {
     "name": "stdout",
     "output_type": "stream",
     "text": [
      "My name is Elias and i'm 30\n"
     ]
    }
   ],
   "source": [
    "name = \"Elias\"\n",
    "age = 30\n",
    "print(f\"My name is {name} and i'm {age}\")"
   ]
  },
  {
   "cell_type": "code",
   "execution_count": 20,
   "metadata": {},
   "outputs": [
    {
     "name": "stdout",
     "output_type": "stream",
     "text": [
      "Pi equals 3.14\n"
     ]
    }
   ],
   "source": [
    "print(f\"Pi equals {pi:1.2f}\")"
   ]
  },
  {
   "cell_type": "code",
   "execution_count": 22,
   "metadata": {},
   "outputs": [
    {
     "name": "stdout",
     "output_type": "stream",
     "text": [
      "Меня зовут Oleg мне 46 лет\n"
     ]
    }
   ],
   "source": [
    "name = \"Oleg\"\n",
    "age = 46\n",
    "print(\"Меня зовут\", name,\"мне\",age,\"лет\")"
   ]
  },
  {
   "cell_type": "code",
   "execution_count": null,
   "metadata": {},
   "outputs": [],
   "source": []
  }
 ],
 "metadata": {
  "kernelspec": {
   "display_name": "Python 3",
   "language": "python",
   "name": "python3"
  },
  "language_info": {
   "codemirror_mode": {
    "name": "ipython",
    "version": 3
   },
   "file_extension": ".py",
   "mimetype": "text/x-python",
   "name": "python",
   "nbconvert_exporter": "python",
   "pygments_lexer": "ipython3",
   "version": "3.8.3"
  }
 },
 "nbformat": 4,
 "nbformat_minor": 4
}
